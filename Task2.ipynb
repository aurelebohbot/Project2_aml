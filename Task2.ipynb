{
 "cells": [
  {
   "cell_type": "code",
   "execution_count": 2,
   "metadata": {},
   "outputs": [],
   "source": [
    "import numpy as np\n",
    "import pandas as pd\n",
    "import matplotlib.pyplot as plt\n",
    "import biosppy.signals.ecg as ecg\n",
    "import neurokit2 as nk\n"
   ]
  },
  {
   "cell_type": "code",
   "execution_count": 3,
   "metadata": {},
   "outputs": [],
   "source": [
    "X_train = pd.read_csv('X_train.csv')\n",
    "X_test = pd.read_csv('X_test.csv')\n",
    "y_train = pd.read_csv('y_train.csv')"
   ]
  },
  {
   "cell_type": "code",
   "execution_count": 4,
   "metadata": {},
   "outputs": [
    {
     "data": {
      "text/plain": [
       "id         9.0\n",
       "x0       -69.0\n",
       "x1       -72.0\n",
       "x2       -75.0\n",
       "x3       -78.0\n",
       "          ... \n",
       "x17802     NaN\n",
       "x17803     NaN\n",
       "x17804     NaN\n",
       "x17805     NaN\n",
       "x17806     NaN\n",
       "Name: 9, Length: 17808, dtype: float64"
      ]
     },
     "execution_count": 4,
     "metadata": {},
     "output_type": "execute_result"
    }
   ],
   "source": [
    "X_train.loc[9]"
   ]
  },
  {
   "cell_type": "code",
   "execution_count": 5,
   "metadata": {},
   "outputs": [],
   "source": [
    "signal = X_train.loc[10].dropna().to_numpy(dtype='float32')"
   ]
  },
  {
   "cell_type": "code",
   "execution_count": 101,
   "metadata": {},
   "outputs": [
    {
     "data": {
      "text/plain": [
       "False"
      ]
     },
     "execution_count": 101,
     "metadata": {},
     "output_type": "execute_result"
    }
   ],
   "source": [
    "np.isnan(signal.any())"
   ]
  },
  {
   "cell_type": "code",
   "execution_count": 17,
   "metadata": {},
   "outputs": [
    {
     "data": {
      "text/plain": [
       "5117"
      ]
     },
     "execution_count": 17,
     "metadata": {},
     "output_type": "execute_result"
    }
   ],
   "source": [
    "X_train.shape[0]"
   ]
  },
  {
   "cell_type": "code",
   "execution_count": 22,
   "metadata": {},
   "outputs": [
    {
     "ename": "ValueError",
     "evalue": "NeuroKit error: we expect the user to provide a vector, i.e., a one-dimensional array (such as a list of values). Current input of shape: ()",
     "output_type": "error",
     "traceback": [
      "\u001b[0;31m---------------------------------------------------------------------------\u001b[0m",
      "\u001b[0;31mValueError\u001b[0m                                Traceback (most recent call last)",
      "\u001b[1;32m/Users/yanistournier/projet AML/Task 2/Task2.ipynb Cellule 7\u001b[0m in \u001b[0;36m<cell line: 2>\u001b[0;34m()\u001b[0m\n\u001b[1;32m      <a href='vscode-notebook-cell:/Users/yanistournier/projet%20AML/Task%202/Task2.ipynb#W5sZmlsZQ%3D%3D?line=2'>3</a>\u001b[0m signal \u001b[39m=\u001b[39m X_train\u001b[39m.\u001b[39mloc[sample]\u001b[39m.\u001b[39mdropna()\u001b[39m.\u001b[39mto_numpy(dtype\u001b[39m=\u001b[39m\u001b[39m'\u001b[39m\u001b[39mfloat32\u001b[39m\u001b[39m'\u001b[39m)\n\u001b[1;32m      <a href='vscode-notebook-cell:/Users/yanistournier/projet%20AML/Task%202/Task2.ipynb#W5sZmlsZQ%3D%3D?line=3'>4</a>\u001b[0m signal \u001b[39m=\u001b[39m nk\u001b[39m.\u001b[39msignal\n\u001b[0;32m----> <a href='vscode-notebook-cell:/Users/yanistournier/projet%20AML/Task%202/Task2.ipynb#W5sZmlsZQ%3D%3D?line=4'>5</a>\u001b[0m df, info \u001b[39m=\u001b[39m nk\u001b[39m.\u001b[39;49mecg_process(signal, sampling_rate\u001b[39m=\u001b[39;49m\u001b[39m300\u001b[39;49m)\n\u001b[1;32m      <a href='vscode-notebook-cell:/Users/yanistournier/projet%20AML/Task%202/Task2.ipynb#W5sZmlsZQ%3D%3D?line=5'>6</a>\u001b[0m analyze_df \u001b[39m=\u001b[39m nk\u001b[39m.\u001b[39mecg_analyze(df, sampling_rate\u001b[39m=\u001b[39m\u001b[39m300\u001b[39m)\n\u001b[1;32m      <a href='vscode-notebook-cell:/Users/yanistournier/projet%20AML/Task%202/Task2.ipynb#W5sZmlsZQ%3D%3D?line=6'>7</a>\u001b[0m features \u001b[39m+\u001b[39m\u001b[39m=\u001b[39m [analyze_df]\n",
      "File \u001b[0;32m~/opt/miniconda3/lib/python3.8/site-packages/neurokit2/ecg/ecg_process.py:89\u001b[0m, in \u001b[0;36mecg_process\u001b[0;34m(ecg_signal, sampling_rate, method)\u001b[0m\n\u001b[1;32m     86\u001b[0m \u001b[39m# Sanitize input\u001b[39;00m\n\u001b[1;32m     87\u001b[0m ecg_signal \u001b[39m=\u001b[39m signal_sanitize(ecg_signal)\n\u001b[0;32m---> 89\u001b[0m ecg_cleaned \u001b[39m=\u001b[39m ecg_clean(ecg_signal, sampling_rate\u001b[39m=\u001b[39;49msampling_rate, method\u001b[39m=\u001b[39;49mmethod)\n\u001b[1;32m     90\u001b[0m \u001b[39m# R-peaks\u001b[39;00m\n\u001b[1;32m     91\u001b[0m (\n\u001b[1;32m     92\u001b[0m     instant_peaks,\n\u001b[1;32m     93\u001b[0m     rpeaks,\n\u001b[1;32m     94\u001b[0m ) \u001b[39m=\u001b[39m ecg_peaks(ecg_cleaned\u001b[39m=\u001b[39mecg_cleaned, sampling_rate\u001b[39m=\u001b[39msampling_rate, method\u001b[39m=\u001b[39mmethod, correct_artifacts\u001b[39m=\u001b[39m\u001b[39mTrue\u001b[39;00m)\n",
      "File \u001b[0;32m~/opt/miniconda3/lib/python3.8/site-packages/neurokit2/ecg/ecg_clean.py:86\u001b[0m, in \u001b[0;36mecg_clean\u001b[0;34m(ecg_signal, sampling_rate, method, **kwargs)\u001b[0m\n\u001b[1;32m     12\u001b[0m \u001b[39mdef\u001b[39;00m \u001b[39mecg_clean\u001b[39m(ecg_signal, sampling_rate\u001b[39m=\u001b[39m\u001b[39m1000\u001b[39m, method\u001b[39m=\u001b[39m\u001b[39m\"\u001b[39m\u001b[39mneurokit\u001b[39m\u001b[39m\"\u001b[39m, \u001b[39m*\u001b[39m\u001b[39m*\u001b[39mkwargs):\n\u001b[1;32m     13\u001b[0m     \u001b[39m\"\"\"**ECG Signal Cleaning**\u001b[39;00m\n\u001b[1;32m     14\u001b[0m \n\u001b[1;32m     15\u001b[0m \u001b[39m    Clean an ECG signal to remove noise and improve peak-detection accuracy. Different cleaning\u001b[39;00m\n\u001b[0;32m   (...)\u001b[0m\n\u001b[1;32m     84\u001b[0m \n\u001b[1;32m     85\u001b[0m \u001b[39m    \"\"\"\u001b[39;00m\n\u001b[0;32m---> 86\u001b[0m     ecg_signal \u001b[39m=\u001b[39m as_vector(ecg_signal)\n\u001b[1;32m     88\u001b[0m     \u001b[39m# Missing data\u001b[39;00m\n\u001b[1;32m     89\u001b[0m     n_missing \u001b[39m=\u001b[39m np\u001b[39m.\u001b[39msum(np\u001b[39m.\u001b[39misnan(ecg_signal))\n",
      "File \u001b[0;32m~/opt/miniconda3/lib/python3.8/site-packages/neurokit2/misc/type_converters.py:40\u001b[0m, in \u001b[0;36mas_vector\u001b[0;34m(x)\u001b[0m\n\u001b[1;32m     38\u001b[0m         out \u001b[39m=\u001b[39m out[:, \u001b[39m0\u001b[39m]\n\u001b[1;32m     39\u001b[0m     \u001b[39melse\u001b[39;00m:\n\u001b[0;32m---> 40\u001b[0m         \u001b[39mraise\u001b[39;00m \u001b[39mValueError\u001b[39;00m(\n\u001b[1;32m     41\u001b[0m             \u001b[39m\"\u001b[39m\u001b[39mNeuroKit error: we expect the user to provide a \u001b[39m\u001b[39m\"\u001b[39m\n\u001b[1;32m     42\u001b[0m             \u001b[39m\"\u001b[39m\u001b[39mvector, i.e., a one-dimensional array (such as a \u001b[39m\u001b[39m\"\u001b[39m\n\u001b[1;32m     43\u001b[0m             \u001b[39m\"\u001b[39m\u001b[39mlist of values). Current input of shape: \u001b[39m\u001b[39m\"\u001b[39m \u001b[39m+\u001b[39m \u001b[39mstr\u001b[39m(shape)\n\u001b[1;32m     44\u001b[0m         )\n\u001b[1;32m     46\u001b[0m \u001b[39mreturn\u001b[39;00m out\n",
      "\u001b[0;31mValueError\u001b[0m: NeuroKit error: we expect the user to provide a vector, i.e., a one-dimensional array (such as a list of values). Current input of shape: ()"
     ]
    }
   ],
   "source": [
    "features = []\n",
    "for sample in range(X_train.shape[0]):\n",
    "    signal = X_train.loc[sample].dropna().to_numpy(dtype='float32')\n",
    "    df, info = nk.ecg_process(signal, sampling_rate=300)\n",
    "    analyze_df = nk.ecg_analyze(df, sampling_rate=300)\n",
    "    features += [analyze_df]\n",
    "    "
   ]
  },
  {
   "cell_type": "code",
   "execution_count": 114,
   "metadata": {},
   "outputs": [],
   "source": [
    "df, info = nk.ecg_process(X_train.loc[1].dropna().to_numpy(dtype='float32'), sampling_rate=300)\n",
    "analyze_df = nk.ecg_analyze(df, sampling_rate=300)"
   ]
  },
  {
   "cell_type": "code",
   "execution_count": 15,
   "metadata": {},
   "outputs": [
    {
     "name": "stdout",
     "output_type": "stream",
     "text": [
      "(10, 73)\n"
     ]
    }
   ],
   "source": [
    "features_pd = pd.concat(features)\n",
    "print(features_pd.shape)"
   ]
  },
  {
   "cell_type": "code",
   "execution_count": null,
   "metadata": {},
   "outputs": [],
   "source": [
    "features = pd.concat([features, analyze_df], sort=False)"
   ]
  },
  {
   "cell_type": "code",
   "execution_count": 74,
   "metadata": {},
   "outputs": [],
   "source": [
    "analyze_df = nk.ecg_analyze(df, sampling_rate=300)"
   ]
  },
  {
   "cell_type": "code",
   "execution_count": 75,
   "metadata": {},
   "outputs": [
    {
     "data": {
      "text/html": [
       "<div>\n",
       "<style scoped>\n",
       "    .dataframe tbody tr th:only-of-type {\n",
       "        vertical-align: middle;\n",
       "    }\n",
       "\n",
       "    .dataframe tbody tr th {\n",
       "        vertical-align: top;\n",
       "    }\n",
       "\n",
       "    .dataframe thead th {\n",
       "        text-align: right;\n",
       "    }\n",
       "</style>\n",
       "<table border=\"1\" class=\"dataframe\">\n",
       "  <thead>\n",
       "    <tr style=\"text-align: right;\">\n",
       "      <th></th>\n",
       "      <th>ECG_Rate_Mean</th>\n",
       "      <th>HRV_MeanNN</th>\n",
       "      <th>HRV_SDNN</th>\n",
       "      <th>HRV_RMSSD</th>\n",
       "      <th>HRV_SDSD</th>\n",
       "      <th>HRV_CVNN</th>\n",
       "      <th>HRV_CVSD</th>\n",
       "      <th>HRV_MedianNN</th>\n",
       "      <th>HRV_MadNN</th>\n",
       "      <th>HRV_MCVNN</th>\n",
       "      <th>...</th>\n",
       "      <th>HRV_SampEn</th>\n",
       "      <th>HRV_ShanEn</th>\n",
       "      <th>HRV_FuzzyEn</th>\n",
       "      <th>HRV_MSEn</th>\n",
       "      <th>HRV_CMSEn</th>\n",
       "      <th>HRV_RCMSEn</th>\n",
       "      <th>HRV_CD</th>\n",
       "      <th>HRV_HFD</th>\n",
       "      <th>HRV_KFD</th>\n",
       "      <th>HRV_LZC</th>\n",
       "    </tr>\n",
       "  </thead>\n",
       "  <tbody>\n",
       "    <tr>\n",
       "      <th>0</th>\n",
       "      <td>66.640957</td>\n",
       "      <td>900.689655</td>\n",
       "      <td>35.916341</td>\n",
       "      <td>26.5324</td>\n",
       "      <td>26.862158</td>\n",
       "      <td>0.039876</td>\n",
       "      <td>0.029458</td>\n",
       "      <td>906.666667</td>\n",
       "      <td>29.652</td>\n",
       "      <td>0.032704</td>\n",
       "      <td>...</td>\n",
       "      <td>2.397895</td>\n",
       "      <td>4.237291</td>\n",
       "      <td>1.425803</td>\n",
       "      <td>0.0</td>\n",
       "      <td>0.0</td>\n",
       "      <td>0.0</td>\n",
       "      <td>1.929675</td>\n",
       "      <td>1.732052</td>\n",
       "      <td>2.358072</td>\n",
       "      <td>1.340133</td>\n",
       "    </tr>\n",
       "  </tbody>\n",
       "</table>\n",
       "<p>1 rows × 70 columns</p>\n",
       "</div>"
      ],
      "text/plain": [
       "   ECG_Rate_Mean  HRV_MeanNN   HRV_SDNN  HRV_RMSSD   HRV_SDSD  HRV_CVNN  \\\n",
       "0      66.640957  900.689655  35.916341    26.5324  26.862158  0.039876   \n",
       "\n",
       "   HRV_CVSD  HRV_MedianNN  HRV_MadNN  HRV_MCVNN  ...  HRV_SampEn  HRV_ShanEn  \\\n",
       "0  0.029458    906.666667     29.652   0.032704  ...    2.397895    4.237291   \n",
       "\n",
       "   HRV_FuzzyEn  HRV_MSEn  HRV_CMSEn  HRV_RCMSEn    HRV_CD   HRV_HFD   HRV_KFD  \\\n",
       "0     1.425803       0.0        0.0         0.0  1.929675  1.732052  2.358072   \n",
       "\n",
       "    HRV_LZC  \n",
       "0  1.340133  \n",
       "\n",
       "[1 rows x 70 columns]"
      ]
     },
     "execution_count": 75,
     "metadata": {},
     "output_type": "execute_result"
    }
   ],
   "source": [
    "analyze_df.dropna(axis=1)"
   ]
  },
  {
   "cell_type": "code",
   "execution_count": 16,
   "metadata": {},
   "outputs": [
    {
     "data": {
      "text/plain": [
       "[   ECG_Rate_Mean  HRV_MeanNN   HRV_SDNN  HRV_RMSSD   HRV_SDSD  HRV_CVNN  \\\n",
       " 0        73.8475  815.858586  65.382662  63.711422  63.750021   0.08014   \n",
       " \n",
       "    HRV_CVSD  HRV_MedianNN  HRV_MadNN  HRV_MCVNN  ...  HRV_SampEn  HRV_ShanEn  \\\n",
       " 0  0.078091         830.0     12.355   0.014886  ...     0.45257    4.141017   \n",
       " \n",
       "    HRV_FuzzyEn  HRV_MSEn  HRV_CMSEn  HRV_RCMSEn    HRV_CD  HRV_HFD   HRV_KFD  \\\n",
       " 0     0.385663  0.216039    0.38092    0.355285  0.790085  1.70428  1.194765   \n",
       " \n",
       "     HRV_LZC  \n",
       " 0  0.457909  \n",
       " \n",
       " [1 rows x 73 columns],\n",
       "    ECG_Rate_Mean  HRV_MeanNN   HRV_SDNN  HRV_RMSSD   HRV_SDSD  HRV_CVNN  \\\n",
       " 0      76.136918  788.380952  44.024439   26.22801  26.580558  0.055842   \n",
       " \n",
       "    HRV_CVSD  HRV_MedianNN  HRV_MadNN  HRV_MCVNN  ...  HRV_SampEn  HRV_ShanEn  \\\n",
       " 0  0.033268    796.666667      49.42   0.062033  ...    1.704748    4.707715   \n",
       " \n",
       "    HRV_FuzzyEn  HRV_MSEn  HRV_CMSEn  HRV_RCMSEn    HRV_CD   HRV_HFD   HRV_KFD  \\\n",
       " 0     1.133431       0.0        0.0         0.0  1.762569  1.673112  2.196774   \n",
       " \n",
       "     HRV_LZC  \n",
       " 0  0.879306  \n",
       " \n",
       " [1 rows x 70 columns],\n",
       "    ECG_Rate_Mean  HRV_MeanNN   HRV_SDNN  HRV_RMSSD   HRV_SDSD  HRV_CVNN  \\\n",
       " 0      66.640957  900.689655  35.916341    26.5324  26.862158  0.039876   \n",
       " \n",
       "    HRV_CVSD  HRV_MedianNN  HRV_MadNN  HRV_MCVNN  ...  HRV_SampEn  HRV_ShanEn  \\\n",
       " 0  0.029458    906.666667     29.652   0.032704  ...    2.397895    4.237291   \n",
       " \n",
       "    HRV_FuzzyEn  HRV_MSEn  HRV_CMSEn  HRV_RCMSEn    HRV_CD   HRV_HFD   HRV_KFD  \\\n",
       " 0     1.425803       0.0        0.0         0.0  1.929675  1.732052  2.358072   \n",
       " \n",
       "     HRV_LZC  \n",
       " 0  1.340133  \n",
       " \n",
       " [1 rows x 70 columns],\n",
       "    ECG_Rate_Mean  HRV_MeanNN   HRV_SDNN  HRV_RMSSD   HRV_SDSD  HRV_CVNN  \\\n",
       " 0     156.722706  383.468468  49.155545  53.359012  53.721909  0.128187   \n",
       " \n",
       "    HRV_CVSD  HRV_MedianNN  HRV_MadNN  HRV_MCVNN  ...  HRV_SampEn  HRV_ShanEn  \\\n",
       " 0  0.139148         380.0     29.652   0.078032  ...     1.89085    4.824271   \n",
       " \n",
       "    HRV_FuzzyEn  HRV_MSEn  HRV_CMSEn  HRV_RCMSEn    HRV_CD   HRV_HFD   HRV_KFD  \\\n",
       " 0     1.395006       0.0   1.017163    1.277857  1.643608  1.882645  2.419543   \n",
       " \n",
       "    HRV_LZC  \n",
       " 0  1.09085  \n",
       " \n",
       " [1 rows x 70 columns],\n",
       "    ECG_Rate_Mean  HRV_MeanNN   HRV_SDNN  HRV_RMSSD   HRV_SDSD  HRV_CVNN  \\\n",
       " 0       98.02729  612.222222  54.827553  38.537008  38.982462  0.089555   \n",
       " \n",
       "    HRV_CVSD  HRV_MedianNN  HRV_MadNN  HRV_MCVNN  ...  HRV_SampEn  HRV_ShanEn  \\\n",
       " 0  0.062946         600.0     19.768   0.032947  ...    0.464306    4.381316   \n",
       " \n",
       "    HRV_FuzzyEn  HRV_MSEn  HRV_CMSEn  HRV_RCMSEn  HRV_CD   HRV_HFD   HRV_KFD  \\\n",
       " 0     0.591076  0.318809   0.273941    0.265536  1.2929  1.417458  1.487845   \n",
       " \n",
       "     HRV_LZC  \n",
       " 0  0.610206  \n",
       " \n",
       " [1 rows x 70 columns],\n",
       "    ECG_Rate_Mean  HRV_MeanNN    HRV_SDNN   HRV_RMSSD    HRV_SDSD  HRV_CVNN  \\\n",
       " 0      67.820326  893.690476  250.996925  315.634445  321.477526  0.280854   \n",
       " \n",
       "    HRV_CVSD  HRV_MedianNN  HRV_MadNN  HRV_MCVNN  ...  \\\n",
       " 0  0.353181         860.0    303.933    0.35341  ...   \n",
       " \n",
       "    HRV_MFDFA_alpha1_Fluctuation  HRV_MFDFA_alpha1_Increment  HRV_ApEn  \\\n",
       " 0                      0.004865                    0.322982  0.167637   \n",
       " \n",
       "    HRV_SampEn  HRV_ShanEn  HRV_FuzzyEn    HRV_CD   HRV_HFD   HRV_KFD   HRV_LZC  \n",
       " 0         inf    4.735926     1.693366  1.777964  2.018271  2.763012  1.545221  \n",
       " \n",
       " [1 rows x 67 columns],\n",
       "    ECG_Rate_Mean  HRV_MeanNN   HRV_SDNN  HRV_RMSSD   HRV_SDSD  HRV_CVNN  \\\n",
       " 0      84.145396  713.083333  31.966752  20.959872  21.208432  0.044829   \n",
       " \n",
       "    HRV_CVSD  HRV_MedianNN  HRV_MadNN  HRV_MCVNN  ...  \\\n",
       " 0  0.029393    716.666667     32.123   0.044823  ...   \n",
       " \n",
       "    HRV_MFDFA_alpha1_Fluctuation  HRV_MFDFA_alpha1_Increment  HRV_ApEn  \\\n",
       " 0                      0.000144                       0.035  0.151755   \n",
       " \n",
       "    HRV_SampEn  HRV_ShanEn  HRV_FuzzyEn   HRV_CD   HRV_HFD   HRV_KFD   HRV_LZC  \n",
       " 0         inf    4.446439      1.16654  2.19242  1.662734  2.481265  1.064386  \n",
       " \n",
       " [1 rows x 67 columns],\n",
       "    ECG_Rate_Mean  HRV_MeanNN    HRV_SDNN   HRV_RMSSD    HRV_SDSD  HRV_CVNN  \\\n",
       " 0      93.764712  648.412698  186.483996  252.797894  255.931954  0.287601   \n",
       " \n",
       "    HRV_CVSD  HRV_MedianNN  HRV_MadNN  HRV_MCVNN  ...  HRV_ApEn  HRV_SampEn  \\\n",
       " 0  0.389872    616.666667     148.26   0.240422  ...  0.338952         inf   \n",
       " \n",
       "    HRV_ShanEn  HRV_FuzzyEn  HRV_CMSEn  HRV_RCMSEn    HRV_CD  HRV_HFD  \\\n",
       " 0    5.201841      1.57647        0.0         0.0  1.951637  1.95876   \n",
       " \n",
       "     HRV_KFD   HRV_LZC  \n",
       " 0  3.188647  1.283885  \n",
       " \n",
       " [1 rows x 69 columns],\n",
       "    ECG_Rate_Mean  HRV_MeanNN    HRV_SDNN   HRV_RMSSD    HRV_SDSD  HRV_CVNN  \\\n",
       " 0      71.082908  869.794872  255.704281  387.340245  390.399698  0.293982   \n",
       " \n",
       "    HRV_CVSD  HRV_MedianNN  HRV_MadNN  HRV_MCVNN  ...  HRV_SampEn  HRV_ShanEn  \\\n",
       " 0  0.445324         900.0    237.216   0.263573  ...     1.07881    5.783756   \n",
       " \n",
       "    HRV_FuzzyEn  HRV_MSEn  HRV_CMSEn  HRV_RCMSEn    HRV_CD   HRV_HFD   HRV_KFD  \\\n",
       " 0     1.542508  1.120694   0.726964    1.030215  1.577524  2.059796  3.378082   \n",
       " \n",
       "     HRV_LZC  \n",
       " 0  1.111822  \n",
       " \n",
       " [1 rows x 73 columns],\n",
       "    ECG_Rate_Mean  HRV_MeanNN    HRV_SDNN   HRV_RMSSD    HRV_SDSD  HRV_CVNN  \\\n",
       " 0      76.868766  796.923077  304.322142  427.684333  446.685794  0.381871   \n",
       " \n",
       "    HRV_CVSD  HRV_MedianNN  HRV_MadNN  HRV_MCVNN  ...  \\\n",
       " 0   0.53667         710.0    405.244   0.570766  ...   \n",
       " \n",
       "    HRV_MFDFA_alpha1_Asymmetry  HRV_MFDFA_alpha1_Fluctuation  \\\n",
       " 0                   -0.287065                      0.000036   \n",
       " \n",
       "    HRV_MFDFA_alpha1_Increment  HRV_ApEn  HRV_SampEn  HRV_ShanEn  HRV_FuzzyEn  \\\n",
       " 0                    0.021173  0.028513         inf     3.70044     1.910239   \n",
       " \n",
       "      HRV_CD  HRV_KFD   HRV_LZC  \n",
       " 0  1.991712  3.38353  1.138597  \n",
       " \n",
       " [1 rows x 62 columns]]"
      ]
     },
     "execution_count": 16,
     "metadata": {},
     "output_type": "execute_result"
    }
   ],
   "source": [
    "features"
   ]
  },
  {
   "cell_type": "code",
   "execution_count": 29,
   "metadata": {},
   "outputs": [
    {
     "data": {
      "text/plain": [
       "id         0.0\n",
       "x0       -13.0\n",
       "x1        -9.0\n",
       "x2        -6.0\n",
       "x3        -4.0\n",
       "          ... \n",
       "x17802     NaN\n",
       "x17803     NaN\n",
       "x17804     NaN\n",
       "x17805     NaN\n",
       "x17806     NaN\n",
       "Name: 0, Length: 17808, dtype: float64"
      ]
     },
     "execution_count": 29,
     "metadata": {},
     "output_type": "execute_result"
    }
   ],
   "source": [
    "X_train.shape\n",
    "X_train.loc[0]"
   ]
  },
  {
   "cell_type": "code",
   "execution_count": 30,
   "metadata": {},
   "outputs": [
    {
     "name": "stdout",
     "output_type": "stream",
     "text": [
      "[  0. -13.  -9. ...  60.  74.  91.] (16323,)\n"
     ]
    }
   ],
   "source": [
    "signal = X_train.loc[0].dropna().to_numpy(dtype='float32')\n",
    "print(signal,signal.shape)"
   ]
  },
  {
   "cell_type": "code",
   "execution_count": 33,
   "metadata": {},
   "outputs": [
    {
     "data": {
      "image/png": "[encoded data removed]",
      "text/plain": [
       "<Figure size 480x360 with 3 Axes>"
      ]
     },
     "metadata": {},
     "output_type": "display_data"
    }
   ],
   "source": [
    "signal_X = X_train.loc[0].dropna().to_numpy(dtype='float32')\n",
    "features = ecg.ecg(signal_X,sampling_rate=300,show=True)\n",
    "ts, filtered, rpeaks_, templates_ts, templates, heart_rate_ts, heart_rate=features"
   ]
  },
  {
   "cell_type": "code",
   "execution_count": null,
   "metadata": {},
   "outputs": [],
   "source": []
  }
 ],
 "metadata": {
  "kernelspec": {
   "display_name": "Python 3.8.12 ('base')",
   "language": "python",
   "name": "python3"
  },
  "language_info": {
   "codemirror_mode": {
    "name": "ipython",
    "version": 3
   },
   "file_extension": ".py",
   "mimetype": "text/x-python",
   "name": "python",
   "nbconvert_exporter": "python",
   "pygments_lexer": "ipython3",
   "version": "3.8.12"
  },
  "orig_nbformat": 4,
  "vscode": {
   "interpreter": {
    "hash": "717f860013a93b0556820594c0b63bb2304a4642c6a3adb947019f42cb26b7bb"
   }
  }
 },
 "nbformat": 4,
 "nbformat_minor": 2
}
